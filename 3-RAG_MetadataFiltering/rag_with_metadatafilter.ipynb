{
 "cells": [
  {
   "cell_type": "code",
   "execution_count": 1,
   "metadata": {
    "colab": {
     "base_uri": "https://localhost:8080/"
    },
    "id": "6QC_iQ92b9aQ",
    "outputId": "b1657844-9d61-4a0a-8b2d-1315888e9ba5"
   },
   "outputs": [
    {
     "name": "stdout",
     "output_type": "stream",
     "text": [
      "\u001b[2K     \u001b[90m━━━━━━━━━━━━━━━━━━━━━━━━━━━━━━━━━━━━━━━━\u001b[0m \u001b[32m8.8/8.8 MB\u001b[0m \u001b[31m30.2 MB/s\u001b[0m eta \u001b[36m0:00:00\u001b[0m\n",
      "\u001b[2K     \u001b[90m━━━━━━━━━━━━━━━━━━━━━━━━━━━━━━━━━━━━━━━━\u001b[0m \u001b[32m297.4/297.4 kB\u001b[0m \u001b[31m27.2 MB/s\u001b[0m eta \u001b[36m0:00:00\u001b[0m\n",
      "\u001b[2K     \u001b[90m━━━━━━━━━━━━━━━━━━━━━━━━━━━━━━━━━━━━━━━━\u001b[0m \u001b[32m44.6/44.6 kB\u001b[0m \u001b[31m5.6 MB/s\u001b[0m eta \u001b[36m0:00:00\u001b[0m\n",
      "\u001b[2K     \u001b[90m━━━━━━━━━━━━━━━━━━━━━━━━━━━━━━━━━━━━━━━━\u001b[0m \u001b[32m102.2/102.2 MB\u001b[0m \u001b[31m8.4 MB/s\u001b[0m eta \u001b[36m0:00:00\u001b[0m\n",
      "\u001b[2K     \u001b[90m━━━━━━━━━━━━━━━━━━━━━━━━━━━━━━━━━━━━━━━━\u001b[0m \u001b[32m525.5/525.5 kB\u001b[0m \u001b[31m29.0 MB/s\u001b[0m eta \u001b[36m0:00:00\u001b[0m\n",
      "\u001b[2K     \u001b[90m━━━━━━━━━━━━━━━━━━━━━━━━━━━━━━━━━━━━━━━━\u001b[0m \u001b[32m814.5/814.5 kB\u001b[0m \u001b[31m19.6 MB/s\u001b[0m eta \u001b[36m0:00:00\u001b[0m\n",
      "\u001b[2K     \u001b[90m━━━━━━━━━━━━━━━━━━━━━━━━━━━━━━━━━━━━━━━━\u001b[0m \u001b[32m3.9/3.9 MB\u001b[0m \u001b[31m32.5 MB/s\u001b[0m eta \u001b[36m0:00:00\u001b[0m\n",
      "\u001b[2K     \u001b[90m━━━━━━━━━━━━━━━━━━━━━━━━━━━━━━━━━━━━━━━━\u001b[0m \u001b[32m505.5/505.5 kB\u001b[0m \u001b[31m11.0 MB/s\u001b[0m eta \u001b[36m0:00:00\u001b[0m\n",
      "\u001b[2K     \u001b[90m━━━━━━━━━━━━━━━━━━━━━━━━━━━━━━━━━━━━━━━━\u001b[0m \u001b[32m17.1/17.1 MB\u001b[0m \u001b[31m40.6 MB/s\u001b[0m eta \u001b[36m0:00:00\u001b[0m\n",
      "\u001b[2K     \u001b[90m━━━━━━━━━━━━━━━━━━━━━━━━━━━━━━━━━━━━━━━━\u001b[0m \u001b[32m2.4/2.4 MB\u001b[0m \u001b[31m71.5 MB/s\u001b[0m eta \u001b[36m0:00:00\u001b[0m\n",
      "\u001b[2K     \u001b[90m━━━━━━━━━━━━━━━━━━━━━━━━━━━━━━━━━━━━━━━━\u001b[0m \u001b[32m91.9/91.9 kB\u001b[0m \u001b[31m8.8 MB/s\u001b[0m eta \u001b[36m0:00:00\u001b[0m\n",
      "\u001b[2K     \u001b[90m━━━━━━━━━━━━━━━━━━━━━━━━━━━━━━━━━━━━━━━━\u001b[0m \u001b[32m60.8/60.8 kB\u001b[0m \u001b[31m7.2 MB/s\u001b[0m eta \u001b[36m0:00:00\u001b[0m\n",
      "\u001b[2K     \u001b[90m━━━━━━━━━━━━━━━━━━━━━━━━━━━━━━━━━━━━━━━━\u001b[0m \u001b[32m41.3/41.3 kB\u001b[0m \u001b[31m3.7 MB/s\u001b[0m eta \u001b[36m0:00:00\u001b[0m\n",
      "\u001b[2K     \u001b[90m━━━━━━━━━━━━━━━━━━━━━━━━━━━━━━━━━━━━━━━━\u001b[0m \u001b[32m5.4/5.4 MB\u001b[0m \u001b[31m67.6 MB/s\u001b[0m eta \u001b[36m0:00:00\u001b[0m\n",
      "\u001b[2K     \u001b[90m━━━━━━━━━━━━━━━━━━━━━━━━━━━━━━━━━━━━━━━━\u001b[0m \u001b[32m6.8/6.8 MB\u001b[0m \u001b[31m47.3 MB/s\u001b[0m eta \u001b[36m0:00:00\u001b[0m\n",
      "\u001b[2K     \u001b[90m━━━━━━━━━━━━━━━━━━━━━━━━━━━━━━━━━━━━━━━━\u001b[0m \u001b[32m60.1/60.1 kB\u001b[0m \u001b[31m8.6 MB/s\u001b[0m eta \u001b[36m0:00:00\u001b[0m\n",
      "\u001b[2K     \u001b[90m━━━━━━━━━━━━━━━━━━━━━━━━━━━━━━━━━━━━━━━━\u001b[0m \u001b[32m106.1/106.1 kB\u001b[0m \u001b[31m15.1 MB/s\u001b[0m eta \u001b[36m0:00:00\u001b[0m\n",
      "\u001b[2K     \u001b[90m━━━━━━━━━━━━━━━━━━━━━━━━━━━━━━━━━━━━━━━━\u001b[0m \u001b[32m67.3/67.3 kB\u001b[0m \u001b[31m9.3 MB/s\u001b[0m eta \u001b[36m0:00:00\u001b[0m\n",
      "\u001b[?25h  Installing build dependencies ... \u001b[?25l\u001b[?25hdone\n",
      "  Getting requirements to build wheel ... \u001b[?25l\u001b[?25hdone\n",
      "  Preparing metadata (pyproject.toml) ... \u001b[?25l\u001b[?25hdone\n",
      "\u001b[2K     \u001b[90m━━━━━━━━━━━━━━━━━━━━━━━━━━━━━━━━━━━━━━━━\u001b[0m \u001b[32m698.9/698.9 kB\u001b[0m \u001b[31m42.7 MB/s\u001b[0m eta \u001b[36m0:00:00\u001b[0m\n",
      "\u001b[2K     \u001b[90m━━━━━━━━━━━━━━━━━━━━━━━━━━━━━━━━━━━━━━━━\u001b[0m \u001b[32m1.6/1.6 MB\u001b[0m \u001b[31m66.4 MB/s\u001b[0m eta \u001b[36m0:00:00\u001b[0m\n",
      "\u001b[2K     \u001b[90m━━━━━━━━━━━━━━━━━━━━━━━━━━━━━━━━━━━━━━━━\u001b[0m \u001b[32m67.6/67.6 kB\u001b[0m \u001b[31m5.8 MB/s\u001b[0m eta \u001b[36m0:00:00\u001b[0m\n",
      "\u001b[2K     \u001b[90m━━━━━━━━━━━━━━━━━━━━━━━━━━━━━━━━━━━━━━━━\u001b[0m \u001b[32m144.8/144.8 kB\u001b[0m \u001b[31m18.7 MB/s\u001b[0m eta \u001b[36m0:00:00\u001b[0m\n",
      "\u001b[2K     \u001b[90m━━━━━━━━━━━━━━━━━━━━━━━━━━━━━━━━━━━━━━━━\u001b[0m \u001b[32m1.9/1.9 MB\u001b[0m \u001b[31m69.7 MB/s\u001b[0m eta \u001b[36m0:00:00\u001b[0m\n",
      "\u001b[2K     \u001b[90m━━━━━━━━━━━━━━━━━━━━━━━━━━━━━━━━━━━━━━━━\u001b[0m \u001b[32m278.4/278.4 kB\u001b[0m \u001b[31m28.6 MB/s\u001b[0m eta \u001b[36m0:00:00\u001b[0m\n",
      "\u001b[2K     \u001b[90m━━━━━━━━━━━━━━━━━━━━━━━━━━━━━━━━━━━━━━━━\u001b[0m \u001b[32m104.2/104.2 kB\u001b[0m \u001b[31m13.7 MB/s\u001b[0m eta \u001b[36m0:00:00\u001b[0m\n",
      "\u001b[2K     \u001b[90m━━━━━━━━━━━━━━━━━━━━━━━━━━━━━━━━━━━━━━━━\u001b[0m \u001b[32m30.8/30.8 MB\u001b[0m \u001b[31m35.3 MB/s\u001b[0m eta \u001b[36m0:00:00\u001b[0m\n",
      "\u001b[?25h  Preparing metadata (setup.py) ... \u001b[?25l\u001b[?25hdone\n",
      "\u001b[2K     \u001b[90m━━━━━━━━━━━━━━━━━━━━━━━━━━━━━━━━━━━━━━━━\u001b[0m \u001b[32m313.6/313.6 kB\u001b[0m \u001b[31m30.9 MB/s\u001b[0m eta \u001b[36m0:00:00\u001b[0m\n",
      "\u001b[2K     \u001b[90m━━━━━━━━━━━━━━━━━━━━━━━━━━━━━━━━━━━━━━━━\u001b[0m \u001b[32m75.6/75.6 kB\u001b[0m \u001b[31m9.8 MB/s\u001b[0m eta \u001b[36m0:00:00\u001b[0m\n",
      "\u001b[2K     \u001b[90m━━━━━━━━━━━━━━━━━━━━━━━━━━━━━━━━━━━━━━━━\u001b[0m \u001b[32m8.7/8.7 MB\u001b[0m \u001b[31m31.3 MB/s\u001b[0m eta \u001b[36m0:00:00\u001b[0m\n",
      "\u001b[2K     \u001b[90m━━━━━━━━━━━━━━━━━━━━━━━━━━━━━━━━━━━━━━━━\u001b[0m \u001b[32m129.9/129.9 kB\u001b[0m \u001b[31m1.6 MB/s\u001b[0m eta \u001b[36m0:00:00\u001b[0m\n",
      "\u001b[2K     \u001b[90m━━━━━━━━━━━━━━━━━━━━━━━━━━━━━━━━━━━━━━━━\u001b[0m \u001b[32m49.4/49.4 kB\u001b[0m \u001b[31m6.5 MB/s\u001b[0m eta \u001b[36m0:00:00\u001b[0m\n",
      "\u001b[2K     \u001b[90m━━━━━━━━━━━━━━━━━━━━━━━━━━━━━━━━━━━━━━━━\u001b[0m \u001b[32m71.9/71.9 kB\u001b[0m \u001b[31m9.1 MB/s\u001b[0m eta \u001b[36m0:00:00\u001b[0m\n",
      "\u001b[2K     \u001b[90m━━━━━━━━━━━━━━━━━━━━━━━━━━━━━━━━━━━━━━━━\u001b[0m \u001b[32m77.9/77.9 kB\u001b[0m \u001b[31m5.9 MB/s\u001b[0m eta \u001b[36m0:00:00\u001b[0m\n",
      "\u001b[2K     \u001b[90m━━━━━━━━━━━━━━━━━━━━━━━━━━━━━━━━━━━━━━━━\u001b[0m \u001b[32m58.3/58.3 kB\u001b[0m \u001b[31m7.5 MB/s\u001b[0m eta \u001b[36m0:00:00\u001b[0m\n",
      "\u001b[2K     \u001b[90m━━━━━━━━━━━━━━━━━━━━━━━━━━━━━━━━━━━━━━━━\u001b[0m \u001b[32m53.0/53.0 kB\u001b[0m \u001b[31m3.9 MB/s\u001b[0m eta \u001b[36m0:00:00\u001b[0m\n",
      "\u001b[2K     \u001b[90m━━━━━━━━━━━━━━━━━━━━━━━━━━━━━━━━━━━━━━━━\u001b[0m \u001b[32m46.0/46.0 kB\u001b[0m \u001b[31m5.9 MB/s\u001b[0m eta \u001b[36m0:00:00\u001b[0m\n",
      "\u001b[2K     \u001b[90m━━━━━━━━━━━━━━━━━━━━━━━━━━━━━━━━━━━━━━━━\u001b[0m \u001b[32m50.8/50.8 kB\u001b[0m \u001b[31m5.3 MB/s\u001b[0m eta \u001b[36m0:00:00\u001b[0m\n",
      "\u001b[2K     \u001b[90m━━━━━━━━━━━━━━━━━━━━━━━━━━━━━━━━━━━━━━━━\u001b[0m \u001b[32m341.4/341.4 kB\u001b[0m \u001b[31m43.7 MB/s\u001b[0m eta \u001b[36m0:00:00\u001b[0m\n",
      "\u001b[2K     \u001b[90m━━━━━━━━━━━━━━━━━━━━━━━━━━━━━━━━━━━━━━━━\u001b[0m \u001b[32m3.4/3.4 MB\u001b[0m \u001b[31m94.8 MB/s\u001b[0m eta \u001b[36m0:00:00\u001b[0m\n",
      "\u001b[2K     \u001b[90m━━━━━━━━━━━━━━━━━━━━━━━━━━━━━━━━━━━━━━━━\u001b[0m \u001b[32m1.3/1.3 MB\u001b[0m \u001b[31m89.9 MB/s\u001b[0m eta \u001b[36m0:00:00\u001b[0m\n",
      "\u001b[2K     \u001b[90m━━━━━━━━━━━━━━━━━━━━━━━━━━━━━━━━━━━━━━━━\u001b[0m \u001b[32m86.8/86.8 kB\u001b[0m \u001b[31m14.0 MB/s\u001b[0m eta \u001b[36m0:00:00\u001b[0m\n",
      "\u001b[?25h  Building wheel for pypika (pyproject.toml) ... \u001b[?25l\u001b[?25hdone\n",
      "  Building wheel for ffmpy (setup.py) ... \u001b[?25l\u001b[?25hdone\n"
     ]
    }
   ],
   "source": [
    "!pip install -Uq transformers accelerate einops bitsandbytes chromadb langchain pymupdf pytz gradio"
   ]
  },
  {
   "cell_type": "code",
   "execution_count": 2,
   "metadata": {
    "colab": {
     "base_uri": "https://localhost:8080/"
    },
    "id": "ppZYynx9cQDH",
    "outputId": "7c18a633-1379-4d7a-d446-380f017d5642"
   },
   "outputs": [
    {
     "name": "stdout",
     "output_type": "stream",
     "text": [
      "Mounted at /content/drive\n"
     ]
    }
   ],
   "source": [
    "import json\n",
    "import gradio\n",
    "\n",
    "import transformers\n",
    "from transformers import AutoModelForCausalLM, AutoTokenizer, pipeline\n",
    "\n",
    "import torch\n",
    "from torch import cuda, bfloat16\n",
    "from langchain.text_splitter import RecursiveCharacterTextSplitter\n",
    "\n",
    "import chromadb\n",
    "from chromadb.utils import embedding_functions\n",
    "\n",
    "from datetime import datetime\n",
    "import json\n",
    "import fitz\n",
    "import pytz\n",
    "\n",
    "import os\n",
    "\n",
    "# if using Google Colab uncomment the following lines\n",
    "# from google.colab import drive\n",
    "\n",
    "# drive.mount(\"/content/drive\")\n",
    "# os.chdir(r\"/content/drive/My Drive/AAI courses/TA Chatbot\") # Change to desired dir"
   ]
  },
  {
   "cell_type": "markdown",
   "metadata": {
    "id": "YwKnf4URio0b"
   },
   "source": [
    "Set up the database"
   ]
  },
  {
   "cell_type": "code",
   "execution_count": 3,
   "metadata": {
    "id": "uIMS0GkAinCS"
   },
   "outputs": [],
   "source": [
    "CHROMA_DATA_PATH = \"chromadb_database\"\n",
    "\n",
    "\n",
    "def fetch_database(hf_auth=None, ef_name=\"sentence-transformers/all-mpnet-base-v2\"):\n",
    "    if hf_auth:\n",
    "        ef = embedding_functions.HuggingFaceEmbeddingFunction(\n",
    "            api_key=hf_auth, model_name=ef_name\n",
    "        )\n",
    "    else:\n",
    "        ef = (\n",
    "            embedding_functions.DefaultEmbeddingFunction()\n",
    "        )  # use the default all-MiniLM-L6-v2\n",
    "\n",
    "    client = chromadb.PersistentClient(path=CHROMA_DATA_PATH)\n",
    "    collection = client.get_or_create_collection(\n",
    "        name=\"course_material\", embedding_function=ef\n",
    "    )\n",
    "    return client, collection\n",
    "\n",
    "\n",
    "# with open(\"creds.txt\", \"r\") as file: # load your hugging face token\n",
    "#     hf_auth = json.load(file)[\"hf_token\"]\n",
    "\n",
    "client, collection = fetch_database()"
   ]
  },
  {
   "cell_type": "code",
   "execution_count": 4,
   "metadata": {
    "id": "IKsq4BqNi8of"
   },
   "outputs": [],
   "source": [
    "def load_material(collection=collection, chunk_size=250, chunk_overlap=20):\n",
    "    text_splitter = RecursiveCharacterTextSplitter(\n",
    "        chunk_size=chunk_size, chunk_overlap=chunk_overlap\n",
    "    )\n",
    "    if collection.count():  # if the store is already built, abort\n",
    "        return\n",
    "    ids = 0\n",
    "    data_path = \"data\"\n",
    "\n",
    "    for file in os.listdir(data_path):\n",
    "        docs = []\n",
    "        if file.startswith(\n",
    "            \"module\"\n",
    "        ):  # excpecting data poinoning folders to have the name module#\n",
    "            week_num = file[6]\n",
    "        else:\n",
    "            week_num = 0  # means available at all time\n",
    "\n",
    "        try:\n",
    "            curr_file = fitz.open(os.path.join(data_path, file))\n",
    "            for i in range(len(curr_file)):\n",
    "                if curr_file[i].get_text():\n",
    "                    for doc in text_splitter.split_text(curr_file[i].get_text()):\n",
    "                        docs.append(doc)\n",
    "            idx = list(f\"{i}\" for i in range(ids, ids + len(docs)))\n",
    "            ids += len(docs)\n",
    "            meta_data = [{\"week\": f\"{week_num}\"}] * len(idx)\n",
    "\n",
    "            collection.add(documents=docs, metadatas=meta_data, ids=idx)\n",
    "\n",
    "        except Exception as e:\n",
    "            print(\"Could not process \", file, \"\\nError: \", e, sep=\"\")\n",
    "\n",
    "\n",
    "load_material()"
   ]
  },
  {
   "cell_type": "code",
   "execution_count": 5,
   "metadata": {
    "id": "AJ468vYHjHZS"
   },
   "outputs": [],
   "source": [
    "# set the end date for each week\n",
    "dates = [\n",
    "    datetime.strptime(\"2024-04-09\", \"%Y-%m-%d\").date(),  # beginning of week 1\n",
    "    datetime.strptime(\"2024-04-10\", \"%Y-%m-%d\").date(),  # end of week 1\n",
    "    datetime.strptime(\"2024-04-11\", \"%Y-%m-%d\").date(),  # end of week 2\n",
    "    datetime.strptime(\"2024-04-12\", \"%Y-%m-%d\").date(),  # end of week 3...\n",
    "    datetime.strptime(\"2024-04-13\", \"%Y-%m-%d\").date(),\n",
    "    datetime.strptime(\"2024-04-14\", \"%Y-%m-%d\").date(),\n",
    "    datetime.strptime(\"2024-04-15\", \"%Y-%m-%d\").date(),\n",
    "]\n",
    "\n",
    "\n",
    "def query_db(\n",
    "    query, metadata_filters, n_results=1\n",
    "):  # only fetch the most similar document\n",
    "    results = collection.query(\n",
    "        query_texts=query,\n",
    "        n_results=n_results,\n",
    "        where=metadata_filters,\n",
    "    )\n",
    "    return results\n",
    "\n",
    "\n",
    "tz = pytz.timezone(\"America/Los_Angeles\")\n",
    "\n",
    "\n",
    "def fetch_docs(query, n_docs=3, tz=tz):\n",
    "    now = datetime.now(tz).date()\n",
    "\n",
    "    for i in range(len(dates)):\n",
    "        if now <= dates[i]:\n",
    "            metadata_filters = {\"week\": {\"$in\": [\"0\", str(i + 1)]}}\n",
    "\n",
    "            return \"\\n\\n\".join(\n",
    "                query_db(query, metadata_filters, n_docs)[\"documents\"][0]\n",
    "            )"
   ]
  },
  {
   "cell_type": "markdown",
   "metadata": {
    "id": "Tc35l5PJpc-V"
   },
   "source": [
    "Load the LLM"
   ]
  },
  {
   "cell_type": "code",
   "execution_count": 6,
   "metadata": {
    "colab": {
     "base_uri": "https://localhost:8080/",
     "height": 66,
     "referenced_widgets": [
      "22b9ce10386d4c47a534349ebdf61549",
      "00c8dd53b03c4b78bc0f082ac110c4ea",
      "554452c090a74291ae13d333293e724c",
      "298329b6546a4e6cb53ef4f3d5d54721",
      "3626d843697f43389241b74e675f0682",
      "49c0422d9ee84c719e75cb046cb28e29",
      "c733551294864785aab1beb3f895fedb",
      "451aab2b8a1749feb0a2b1080c0924a6",
      "f1f589c599b54e0aa8f3b4a80b8725c5",
      "c04f0bf30e284680ad24aa1d8b42235c",
      "6f9d3dadeaf84dee8c772a8433c5ecf0"
     ]
    },
    "id": "VjzJakFccedf",
    "outputId": "7b731c14-a65e-4794-b3c2-00011c09e6ca"
   },
   "outputs": [
    {
     "data": {
      "application/vnd.jupyter.widget-view+json": {
       "model_id": "22b9ce10386d4c47a534349ebdf61549",
       "version_major": 2,
       "version_minor": 0
      },
      "text/plain": [
       "Loading checkpoint shards:   0%|          | 0/2 [00:00<?, ?it/s]"
      ]
     },
     "metadata": {},
     "output_type": "display_data"
    },
    {
     "name": "stdout",
     "output_type": "stream",
     "text": [
      "Model loaded on cuda:0\n"
     ]
    }
   ],
   "source": [
    "def load_model(hf_auth, model_id, temperature=0.001):\n",
    "    # Determine the device (GPU if available, else CPU)\n",
    "    device = f\"cuda:{cuda.current_device()}\" if cuda.is_available() else \"cpu\"\n",
    "\n",
    "    # Configure quantization settings for loading the model with less GPU memory usage\n",
    "    bnb_config = transformers.BitsAndBytesConfig(\n",
    "        load_in_4bit=True,\n",
    "        bnb_4bit_quant_type=\"nf4\",\n",
    "        bnb_4bit_use_double_quant=True,\n",
    "        bnb_4bit_compute_dtype=bfloat16,\n",
    "    )\n",
    "\n",
    "    # Load the configuration for the pre-trained model\n",
    "    model_config = transformers.AutoConfig.from_pretrained(model_id, token=hf_auth)\n",
    "\n",
    "    tokenizer = AutoTokenizer.from_pretrained(model_id, token=hf_auth)\n",
    "\n",
    "    # Load the model for causal language modeling\n",
    "    model = transformers.AutoModelForCausalLM.from_pretrained(\n",
    "        model_id,\n",
    "        trust_remote_code=True,\n",
    "        config=model_config,\n",
    "        quantization_config=bnb_config,\n",
    "        device_map=\"auto\",\n",
    "        token=hf_auth,\n",
    "    )\n",
    "\n",
    "    # Set the model in evaluation mode for inference\n",
    "    model.eval()\n",
    "\n",
    "    pipe = pipeline(\n",
    "        task=\"text-generation\",\n",
    "        model=model,\n",
    "        tokenizer=tokenizer,\n",
    "        temperature=temperature,\n",
    "        # top_k=40,\n",
    "        eos_token_id=tokenizer.eos_token_id,\n",
    "        # repetition_penalty=1.5,\n",
    "        return_full_text=False,\n",
    "        # do_sample=True,\n",
    "    )\n",
    "\n",
    "    # Print device information where the model is loaded\n",
    "    print(f\"Model loaded on {device}\")\n",
    "\n",
    "    return pipe\n",
    "\n",
    "\n",
    "with open(\"creds.txt\", \"r\") as file:\n",
    "    hf_auth = json.load(file)[\"hf_token\"]\n",
    "\n",
    "pipe = load_model(hf_auth, \"meta-llama/Llama-2-13b-chat-hf\")"
   ]
  },
  {
   "cell_type": "markdown",
   "metadata": {
    "id": "5obSlwRkdrOM"
   },
   "source": [
    "We will use the following prompt template:\n",
    "\n",
    "```\n",
    "<s>[INST] <<SYS>>\n",
    "{{ system_prompt }}\n",
    "<</SYS>>\n",
    "\n",
    "{{ user_msg_1 }} [/INST] {{ model_answer_1 }} </s><s>[INST] {{ user_msg_2 }} [/INST] {{ model_answer_2 }} </s><s>[INST] {{ user_msg_3 }} [/INST]\n",
    "```"
   ]
  },
  {
   "cell_type": "markdown",
   "metadata": {
    "id": "3Po74dQDMyuO"
   },
   "source": [
    "We will pass the context in the following structure:"
   ]
  },
  {
   "cell_type": "markdown",
   "metadata": {
    "id": "dxJrRog2MUYU"
   },
   "source": [
    "![image.png](data:image/png;base64,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)"
   ]
  },
  {
   "cell_type": "code",
   "execution_count": 10,
   "metadata": {
    "id": "xArCHlMBeDor"
   },
   "outputs": [],
   "source": [
    "SYS_PROMPT = \"\"\"You are an expert teacher assistant for a course called ADS 500B. You answer questions relating to software engineering, data science, and AI.\\\n",
    "You are honest and helpful. You answer succinctly and professionally. You do not make up facts. Use the Context provided to answer the question. If the context says \"I cannot share upcoming assignment solutions.\" Say that. Don't answer the question.\\\n",
    "If you're asked something you do not know the answer to, say you do not know. Do not make up facts. Be brief and to the point.\\\n",
    "\"\"\"\n",
    "\n",
    "TEMPLATE = \"<s>[INST] <<SYS>>\\n{sys_prompt}\\n<</SYS>>\"\n",
    "\n",
    "_SYS_PROMPT = TEMPLATE.format(sys_prompt=SYS_PROMPT)\n",
    "\n",
    "\n",
    "def build_prompt(query_w_context: str, hist_len: int = 3):\n",
    "    if not len(history):  # if first query\n",
    "        return _SYS_PROMPT + f\"\\n\\n{query_w_context} [/INST] \"\n",
    "\n",
    "    prompt = _SYS_PROMPT + \"\\n\\n\"\n",
    "\n",
    "    for i in range(len(history)):\n",
    "        if i == 0:\n",
    "            prompt += f\"{history[i]} [/INST] \"\n",
    "            continue\n",
    "\n",
    "        if i % 2 == 0:\n",
    "            prompt += f\"<s>[INST]{history[i]} [/INST] \"\n",
    "\n",
    "        else:\n",
    "            prompt += f\"{history[i]} </s>\"\n",
    "\n",
    "    return prompt + f\"<s>[INST]{query_w_context} [/INST] \"\n",
    "\n",
    "\n",
    "def query_model(query: str, hist_len: int = 3):\n",
    "    global history\n",
    "\n",
    "    context = fetch_docs(query=query, n_docs=1)\n",
    "\n",
    "    query_w_context = f\"\"\"Context information from multiple sources is below.\n",
    "---------------------\n",
    "{context}\n",
    "---------------------\n",
    "Given the information from multiple sources and not prior knowledge, answer the query.\n",
    "Query: {query}\n",
    "Answer: \"\"\"\n",
    "\n",
    "    prompt = build_prompt(query_w_context, hist_len)\n",
    "    response = pipe(prompt, max_new_tokens=1024)[0][\"generated_text\"]\n",
    "\n",
    "    history.append(query)\n",
    "    history.append(response)\n",
    "\n",
    "    if len(history) > hist_len:\n",
    "        history = history[\n",
    "            -(hist_len * 2) :\n",
    "        ]  # only keep hist_len interaction pair history.\n",
    "    return response"
   ]
  },
  {
   "cell_type": "code",
   "execution_count": 11,
   "metadata": {
    "id": "dEgf-X4KOA6P"
   },
   "outputs": [],
   "source": [
    "global history\n",
    "history = []\n",
    "hist_len = 2\n",
    "\n",
    "\n",
    "def chatbot_interface(query, gradio_hist):\n",
    "    gradio_hist = None\n",
    "    result = query_model(query)\n",
    "    return result\n",
    "\n",
    "\n",
    "interface = gradio.ChatInterface(\n",
    "    fn=chatbot_interface,\n",
    "    title=\"<div style='display: flex; align-items: center;'><img src='https://logos-download.com/wp-content/uploads/2021/01/University_of_San_Diego_Logo_full-1536x1536.png' alt='Your Image' style='margin-right: 10px; max-height: 100px'><h1 style='flex:1; margin-right: 100px; text-align: center;'>Virtual Teaching Assistant for ADS 500B</h1></div>\",\n",
    "    examples=[\n",
    "        \"What do data scientists do?\",\n",
    "        \"How to save changes and exit the file in the vi text editor?\",\n",
    "        \"What programming languages are needed for this course?\",\n",
    "    ],\n",
    "    description=\"RAG system with Llama 2 and ChromaDB with metadata filtering to hide/reveal homework questions based on the due date.\",\n",
    ")"
   ]
  },
  {
   "cell_type": "code",
   "execution_count": 12,
   "metadata": {
    "colab": {
     "base_uri": "https://localhost:8080/",
     "height": 626
    },
    "id": "QfdOC3XdNZyc",
    "outputId": "a055a279-ca5b-494c-98ce-b373903da919"
   },
   "outputs": [
    {
     "name": "stdout",
     "output_type": "stream",
     "text": [
      "Colab notebook detected. This cell will run indefinitely so that you can see errors and logs. To turn off, set debug=False in launch().\n",
      "Running on public URL: https://3a92f59170c09a1ddd.gradio.live\n",
      "\n",
      "This share link expires in 72 hours. For free permanent hosting and GPU upgrades, run `gradio deploy` from Terminal to deploy to Spaces (https://huggingface.co/spaces)\n"
     ]
    },
    {
     "data": {
      "text/html": [
       "<div><iframe src=\"https://3a92f59170c09a1ddd.gradio.live\" width=\"100%\" height=\"500\" allow=\"autoplay; camera; microphone; clipboard-read; clipboard-write;\" frameborder=\"0\" allowfullscreen></iframe></div>"
      ],
      "text/plain": [
       "<IPython.core.display.HTML object>"
      ]
     },
     "metadata": {},
     "output_type": "display_data"
    },
    {
     "name": "stdout",
     "output_type": "stream",
     "text": [
      "Keyboard interruption in main thread... closing server.\n",
      "Killing tunnel 127.0.0.1:7860 <> https://3a92f59170c09a1ddd.gradio.live\n"
     ]
    },
    {
     "data": {
      "text/plain": []
     },
     "execution_count": 12,
     "metadata": {},
     "output_type": "execute_result"
    }
   ],
   "source": [
    "interface.launch(share=True, debug=True)"
   ]
  },
  {
   "cell_type": "code",
   "execution_count": null,
   "metadata": {
    "id": "3vGh2MXnOInS"
   },
   "outputs": [],
   "source": []
  }
 ],
 "metadata": {
  "accelerator": "GPU",
  "colab": {
   "gpuType": "T4",
   "provenance": []
  },
  "kernelspec": {
   "display_name": "Python 3",
   "name": "python3"
  },
  "language_info": {
   "name": "python"
  },
  "widgets": {
   "application/vnd.jupyter.widget-state+json": {
    "00c8dd53b03c4b78bc0f082ac110c4ea": {
     "model_module": "@jupyter-widgets/controls",
     "model_module_version": "1.5.0",
     "model_name": "HTMLModel",
     "state": {
      "_dom_classes": [],
      "_model_module": "@jupyter-widgets/controls",
      "_model_module_version": "1.5.0",
      "_model_name": "HTMLModel",
      "_view_count": null,
      "_view_module": "@jupyter-widgets/controls",
      "_view_module_version": "1.5.0",
      "_view_name": "HTMLView",
      "description": "",
      "description_tooltip": null,
      "layout": "IPY_MODEL_49c0422d9ee84c719e75cb046cb28e29",
      "placeholder": "​",
      "style": "IPY_MODEL_c733551294864785aab1beb3f895fedb",
      "value": "Loading checkpoint shards: 100%"
     }
    },
    "22b9ce10386d4c47a534349ebdf61549": {
     "model_module": "@jupyter-widgets/controls",
     "model_module_version": "1.5.0",
     "model_name": "HBoxModel",
     "state": {
      "_dom_classes": [],
      "_model_module": "@jupyter-widgets/controls",
      "_model_module_version": "1.5.0",
      "_model_name": "HBoxModel",
      "_view_count": null,
      "_view_module": "@jupyter-widgets/controls",
      "_view_module_version": "1.5.0",
      "_view_name": "HBoxView",
      "box_style": "",
      "children": [
       "IPY_MODEL_00c8dd53b03c4b78bc0f082ac110c4ea",
       "IPY_MODEL_554452c090a74291ae13d333293e724c",
       "IPY_MODEL_298329b6546a4e6cb53ef4f3d5d54721"
      ],
      "layout": "IPY_MODEL_3626d843697f43389241b74e675f0682"
     }
    },
    "298329b6546a4e6cb53ef4f3d5d54721": {
     "model_module": "@jupyter-widgets/controls",
     "model_module_version": "1.5.0",
     "model_name": "HTMLModel",
     "state": {
      "_dom_classes": [],
      "_model_module": "@jupyter-widgets/controls",
      "_model_module_version": "1.5.0",
      "_model_name": "HTMLModel",
      "_view_count": null,
      "_view_module": "@jupyter-widgets/controls",
      "_view_module_version": "1.5.0",
      "_view_name": "HTMLView",
      "description": "",
      "description_tooltip": null,
      "layout": "IPY_MODEL_c04f0bf30e284680ad24aa1d8b42235c",
      "placeholder": "​",
      "style": "IPY_MODEL_6f9d3dadeaf84dee8c772a8433c5ecf0",
      "value": " 2/2 [04:30&lt;00:00, 121.50s/it]"
     }
    },
    "3626d843697f43389241b74e675f0682": {
     "model_module": "@jupyter-widgets/base",
     "model_module_version": "1.2.0",
     "model_name": "LayoutModel",
     "state": {
      "_model_module": "@jupyter-widgets/base",
      "_model_module_version": "1.2.0",
      "_model_name": "LayoutModel",
      "_view_count": null,
      "_view_module": "@jupyter-widgets/base",
      "_view_module_version": "1.2.0",
      "_view_name": "LayoutView",
      "align_content": null,
      "align_items": null,
      "align_self": null,
      "border": null,
      "bottom": null,
      "display": null,
      "flex": null,
      "flex_flow": null,
      "grid_area": null,
      "grid_auto_columns": null,
      "grid_auto_flow": null,
      "grid_auto_rows": null,
      "grid_column": null,
      "grid_gap": null,
      "grid_row": null,
      "grid_template_areas": null,
      "grid_template_columns": null,
      "grid_template_rows": null,
      "height": null,
      "justify_content": null,
      "justify_items": null,
      "left": null,
      "margin": null,
      "max_height": null,
      "max_width": null,
      "min_height": null,
      "min_width": null,
      "object_fit": null,
      "object_position": null,
      "order": null,
      "overflow": null,
      "overflow_x": null,
      "overflow_y": null,
      "padding": null,
      "right": null,
      "top": null,
      "visibility": null,
      "width": null
     }
    },
    "451aab2b8a1749feb0a2b1080c0924a6": {
     "model_module": "@jupyter-widgets/base",
     "model_module_version": "1.2.0",
     "model_name": "LayoutModel",
     "state": {
      "_model_module": "@jupyter-widgets/base",
      "_model_module_version": "1.2.0",
      "_model_name": "LayoutModel",
      "_view_count": null,
      "_view_module": "@jupyter-widgets/base",
      "_view_module_version": "1.2.0",
      "_view_name": "LayoutView",
      "align_content": null,
      "align_items": null,
      "align_self": null,
      "border": null,
      "bottom": null,
      "display": null,
      "flex": null,
      "flex_flow": null,
      "grid_area": null,
      "grid_auto_columns": null,
      "grid_auto_flow": null,
      "grid_auto_rows": null,
      "grid_column": null,
      "grid_gap": null,
      "grid_row": null,
      "grid_template_areas": null,
      "grid_template_columns": null,
      "grid_template_rows": null,
      "height": null,
      "justify_content": null,
      "justify_items": null,
      "left": null,
      "margin": null,
      "max_height": null,
      "max_width": null,
      "min_height": null,
      "min_width": null,
      "object_fit": null,
      "object_position": null,
      "order": null,
      "overflow": null,
      "overflow_x": null,
      "overflow_y": null,
      "padding": null,
      "right": null,
      "top": null,
      "visibility": null,
      "width": null
     }
    },
    "49c0422d9ee84c719e75cb046cb28e29": {
     "model_module": "@jupyter-widgets/base",
     "model_module_version": "1.2.0",
     "model_name": "LayoutModel",
     "state": {
      "_model_module": "@jupyter-widgets/base",
      "_model_module_version": "1.2.0",
      "_model_name": "LayoutModel",
      "_view_count": null,
      "_view_module": "@jupyter-widgets/base",
      "_view_module_version": "1.2.0",
      "_view_name": "LayoutView",
      "align_content": null,
      "align_items": null,
      "align_self": null,
      "border": null,
      "bottom": null,
      "display": null,
      "flex": null,
      "flex_flow": null,
      "grid_area": null,
      "grid_auto_columns": null,
      "grid_auto_flow": null,
      "grid_auto_rows": null,
      "grid_column": null,
      "grid_gap": null,
      "grid_row": null,
      "grid_template_areas": null,
      "grid_template_columns": null,
      "grid_template_rows": null,
      "height": null,
      "justify_content": null,
      "justify_items": null,
      "left": null,
      "margin": null,
      "max_height": null,
      "max_width": null,
      "min_height": null,
      "min_width": null,
      "object_fit": null,
      "object_position": null,
      "order": null,
      "overflow": null,
      "overflow_x": null,
      "overflow_y": null,
      "padding": null,
      "right": null,
      "top": null,
      "visibility": null,
      "width": null
     }
    },
    "554452c090a74291ae13d333293e724c": {
     "model_module": "@jupyter-widgets/controls",
     "model_module_version": "1.5.0",
     "model_name": "FloatProgressModel",
     "state": {
      "_dom_classes": [],
      "_model_module": "@jupyter-widgets/controls",
      "_model_module_version": "1.5.0",
      "_model_name": "FloatProgressModel",
      "_view_count": null,
      "_view_module": "@jupyter-widgets/controls",
      "_view_module_version": "1.5.0",
      "_view_name": "ProgressView",
      "bar_style": "success",
      "description": "",
      "description_tooltip": null,
      "layout": "IPY_MODEL_451aab2b8a1749feb0a2b1080c0924a6",
      "max": 2,
      "min": 0,
      "orientation": "horizontal",
      "style": "IPY_MODEL_f1f589c599b54e0aa8f3b4a80b8725c5",
      "value": 2
     }
    },
    "6f9d3dadeaf84dee8c772a8433c5ecf0": {
     "model_module": "@jupyter-widgets/controls",
     "model_module_version": "1.5.0",
     "model_name": "DescriptionStyleModel",
     "state": {
      "_model_module": "@jupyter-widgets/controls",
      "_model_module_version": "1.5.0",
      "_model_name": "DescriptionStyleModel",
      "_view_count": null,
      "_view_module": "@jupyter-widgets/base",
      "_view_module_version": "1.2.0",
      "_view_name": "StyleView",
      "description_width": ""
     }
    },
    "c04f0bf30e284680ad24aa1d8b42235c": {
     "model_module": "@jupyter-widgets/base",
     "model_module_version": "1.2.0",
     "model_name": "LayoutModel",
     "state": {
      "_model_module": "@jupyter-widgets/base",
      "_model_module_version": "1.2.0",
      "_model_name": "LayoutModel",
      "_view_count": null,
      "_view_module": "@jupyter-widgets/base",
      "_view_module_version": "1.2.0",
      "_view_name": "LayoutView",
      "align_content": null,
      "align_items": null,
      "align_self": null,
      "border": null,
      "bottom": null,
      "display": null,
      "flex": null,
      "flex_flow": null,
      "grid_area": null,
      "grid_auto_columns": null,
      "grid_auto_flow": null,
      "grid_auto_rows": null,
      "grid_column": null,
      "grid_gap": null,
      "grid_row": null,
      "grid_template_areas": null,
      "grid_template_columns": null,
      "grid_template_rows": null,
      "height": null,
      "justify_content": null,
      "justify_items": null,
      "left": null,
      "margin": null,
      "max_height": null,
      "max_width": null,
      "min_height": null,
      "min_width": null,
      "object_fit": null,
      "object_position": null,
      "order": null,
      "overflow": null,
      "overflow_x": null,
      "overflow_y": null,
      "padding": null,
      "right": null,
      "top": null,
      "visibility": null,
      "width": null
     }
    },
    "c733551294864785aab1beb3f895fedb": {
     "model_module": "@jupyter-widgets/controls",
     "model_module_version": "1.5.0",
     "model_name": "DescriptionStyleModel",
     "state": {
      "_model_module": "@jupyter-widgets/controls",
      "_model_module_version": "1.5.0",
      "_model_name": "DescriptionStyleModel",
      "_view_count": null,
      "_view_module": "@jupyter-widgets/base",
      "_view_module_version": "1.2.0",
      "_view_name": "StyleView",
      "description_width": ""
     }
    },
    "f1f589c599b54e0aa8f3b4a80b8725c5": {
     "model_module": "@jupyter-widgets/controls",
     "model_module_version": "1.5.0",
     "model_name": "ProgressStyleModel",
     "state": {
      "_model_module": "@jupyter-widgets/controls",
      "_model_module_version": "1.5.0",
      "_model_name": "ProgressStyleModel",
      "_view_count": null,
      "_view_module": "@jupyter-widgets/base",
      "_view_module_version": "1.2.0",
      "_view_name": "StyleView",
      "bar_color": null,
      "description_width": ""
     }
    }
   }
  }
 },
 "nbformat": 4,
 "nbformat_minor": 0
}
